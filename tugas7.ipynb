{
 "cells": [
  {
   "cell_type": "code",
   "execution_count": 1,
   "metadata": {},
   "outputs": [
    {
     "name": "stdout",
     "output_type": "stream",
     "text": [
      "saya tidak akan mengulangi perbuatan itu lagi\n",
      "saya tidak akan mengulangi perbuatan itu lagi\n",
      "saya tidak akan mengulangi perbuatan itu lagi\n",
      "saya tidak akan mengulangi perbuatan itu lagi\n",
      "saya tidak akan mengulangi perbuatan itu lagi\n",
      "saya tidak akan mengulangi perbuatan itu lagi\n",
      "saya tidak akan mengulangi perbuatan itu lagi\n",
      "saya tidak akan mengulangi perbuatan itu lagi\n",
      "saya tidak akan mengulangi perbuatan itu lagi\n",
      "saya tidak akan mengulangi perbuatan itu lagi\n",
      "saya tidak akan mengulangi perbuatan itu lagi\n",
      "saya tidak akan mengulangi perbuatan itu lagi\n",
      "saya tidak akan mengulangi perbuatan itu lagi\n",
      "saya tidak akan mengulangi perbuatan itu lagi\n",
      "saya tidak akan mengulangi perbuatan itu lagi\n",
      "saya tidak akan mengulangi perbuatan itu lagi\n",
      "saya tidak akan mengulangi perbuatan itu lagi\n",
      "saya tidak akan mengulangi perbuatan itu lagi\n",
      "saya tidak akan mengulangi perbuatan itu lagi\n",
      "saya tidak akan mengulangi perbuatan itu lagi\n",
      "saya tidak akan mengulangi perbuatan itu lagi\n",
      "saya tidak akan mengulangi perbuatan itu lagi\n",
      "saya tidak akan mengulangi perbuatan itu lagi\n",
      "saya tidak akan mengulangi perbuatan itu lagi\n",
      "saya tidak akan mengulangi perbuatan itu lagi\n"
     ]
    }
   ],
   "source": [
    "ulang=25\n",
    "for i in range(ulang):\n",
    "    print(\"saya tidak akan mengulangi perbuatan itu lagi\")"
   ]
  },
  {
   "cell_type": "code",
   "execution_count": 3,
   "metadata": {},
   "outputs": [
    {
     "name": "stdout",
     "output_type": "stream",
     "text": [
      "15\n",
      "14\n",
      "13\n",
      "12\n",
      "11\n"
     ]
    }
   ],
   "source": [
    "x=15\n",
    "while x >10:\n",
    "    print(x)\n",
    "    x=x-1"
   ]
  },
  {
   "cell_type": "code",
   "execution_count": 10,
   "metadata": {},
   "outputs": [
    {
     "name": "stdout",
     "output_type": "stream",
     "text": [
      "masukan bilangan= 4\n",
      "4 adalah bilangan genap\n",
      "None\n"
     ]
    }
   ],
   "source": [
    "bilangan=int(input(\"masukan bilangan= \"))\n",
    "def genap():\n",
    "    print(bilangan,\"adalah bilangan genap\")\n",
    "def ganjil():\n",
    "    print(bilangan,\"adalah bilangan ganjil\")\n",
    "if bilangan%2==0:\n",
    "    print(genap())\n",
    "else:\n",
    "    print(ganjil())"
   ]
  }
 ],
 "metadata": {
  "kernelspec": {
   "display_name": "Python 3",
   "language": "python",
   "name": "python3"
  },
  "language_info": {
   "codemirror_mode": {
    "name": "ipython",
    "version": 3
   },
   "file_extension": ".py",
   "mimetype": "text/x-python",
   "name": "python",
   "nbconvert_exporter": "python",
   "pygments_lexer": "ipython3",
   "version": "3.8.3"
  }
 },
 "nbformat": 4,
 "nbformat_minor": 4
}
