{
 "cells": [
  {
   "cell_type": "code",
   "execution_count": 1,
   "metadata": {},
   "outputs": [
    {
     "name": "stdout",
     "output_type": "stream",
     "text": [
      "because i proud to make something new\n",
      "i like programming\n"
     ]
    }
   ],
   "source": [
    "def because():\n",
    "    print(\"because i proud to make something new\")\n",
    "def like():\n",
    "    print(\"i like programming\")\n",
    "because()\n",
    "like()"
   ]
  },
  {
   "cell_type": "code",
   "execution_count": 17,
   "metadata": {},
   "outputs": [
    {
     "name": "stdout",
     "output_type": "stream",
     "text": [
      "nama saya hildan\n",
      "luas persegi panjang adalah 50\n",
      "luas persegi panjang adalah 5000\n"
     ]
    }
   ],
   "source": [
    "def perkenalan():\n",
    "    nama=input(\"nama saya \")\n",
    "def luas_persegipanjang(panjang,lebar):\n",
    "    luas=(panjang*lebar)\n",
    "    print(\"luas persegi panjang adalah\",luas)\n",
    "perkenalan()\n",
    "luas_persegipanjang(5,10)\n",
    "luas_persegipanjang(100,50)"
   ]
  },
  {
   "cell_type": "code",
   "execution_count": 41,
   "metadata": {},
   "outputs": [
    {
     "name": "stdout",
     "output_type": "stream",
     "text": [
      "panjang 12\n",
      "lebar 2\n",
      "tinggi 5\n",
      "luasnya  24\n",
      "volumenya 120\n"
     ]
    }
   ],
   "source": [
    "panjang=int(input(\"panjang \"))\n",
    "lebar=int(input(\"lebar \"))\n",
    "tinggi=int(input(\"tinggi \"))\n",
    "def luasp():\n",
    "    luas=panjang*lebar\n",
    "    return luas\n",
    "def volumeb():\n",
    "    volume=luasp()*tinggi\n",
    "    return volume\n",
    "print(\"luasnya \",luasp())\n",
    "print(\"volumenya\",volumeb())"
   ]
  },
  {
   "cell_type": "code",
   "execution_count": 4,
   "metadata": {},
   "outputs": [
    {
     "name": "stdout",
     "output_type": "stream",
     "text": [
      "angka pertama 12\n",
      "angka kedua 13\n",
      "apakah angka 1 sama dengan angka 2 False\n",
      "apakah angka 1 lebih besar angka 2 False\n"
     ]
    }
   ],
   "source": [
    "angka_pertama=(input(\"angka pertama \"))\n",
    "angka_kedua=(input(\"angka kedua \"))\n",
    "def sama_dengan(angka_pertama,angka_kedua):\n",
    "    smdgn = angka_pertama == angka_kedua\n",
    "    print(\"apakah angka 1 sama dengan angka 2\",smdgn)\n",
    "def lebihbesar(angka_pertama,angka_kedua):\n",
    "    lbhbsr = angka_pertama > angka_kedua\n",
    "    print(\"apakah angka 1 lebih besar angka 2\",lbhbsr)\n",
    "sama_dengan(angka_pertama,angka_kedua)\n",
    "lebihbesar(angka_pertama,angka_kedua)"
   ]
  }
 ],
 "metadata": {
  "kernelspec": {
   "display_name": "Python 3",
   "language": "python",
   "name": "python3"
  },
  "language_info": {
   "codemirror_mode": {
    "name": "ipython",
    "version": 3
   },
   "file_extension": ".py",
   "mimetype": "text/x-python",
   "name": "python",
   "nbconvert_exporter": "python",
   "pygments_lexer": "ipython3",
   "version": "3.8.3"
  }
 },
 "nbformat": 4,
 "nbformat_minor": 4
}
