{
 "cells": [
  {
   "cell_type": "code",
   "execution_count": 18,
   "metadata": {},
   "outputs": [
    {
     "name": "stdout",
     "output_type": "stream",
     "text": [
      "nilaimu: 66\n",
      "kamu harus ikut remidi\n"
     ]
    }
   ],
   "source": [
    "nilai=int(input(\"nilaimu: \"))\n",
    "if nilai < 70:\n",
    "    print(\"kamu harus ikut remidi\")"
   ]
  },
  {
   "cell_type": "code",
   "execution_count": 17,
   "metadata": {},
   "outputs": [
    {
     "name": "stdout",
     "output_type": "stream",
     "text": [
      "masukan jari jari:6\n",
      "113.03999999999999\n",
      "lingkaran ini kecil\n"
     ]
    }
   ],
   "source": [
    "jari=int(input(\"masukan jari jari:\"))\n",
    "ll=3.14*jari*jari\n",
    "print (ll)\n",
    "if ll>314:\n",
    "    print(\"lingkaran ini besar\")\n",
    "else:\n",
    "    print(\"lingkaran ini kecil\")"
   ]
  },
  {
   "cell_type": "code",
   "execution_count": 45,
   "metadata": {},
   "outputs": [
    {
     "name": "stdout",
     "output_type": "stream",
     "text": [
      "nomer program[1/2] 2\n",
      "sisi 5\n",
      "volume kubus: 125\n"
     ]
    }
   ],
   "source": [
    "def balok():\n",
    "        p=int(input(\"panjang \"))\n",
    "        l=int(input(\"lebar\"))\n",
    "        t=int(input(\"tinggi\"))\n",
    "        volumeb=p*l*t\n",
    "        return volumeb\n",
    "def kubus():\n",
    "        s=int(input(\"sisi \"))\n",
    "        volumeku=s*s*s\n",
    "        return volumeku\n",
    "nomer=int(input(\"nomer program[1/2] \"))\n",
    "if nomer ==1:\n",
    "    print(\"volume balok:\",balok())\n",
    "elif nomer==2:\n",
    "    print(\"volume kubus:\",kubus())\n",
    "else:\n",
    "    print(\"program tidak tersedia\")"
   ]
  }
 ],
 "metadata": {
  "kernelspec": {
   "display_name": "Python 3",
   "language": "python",
   "name": "python3"
  },
  "language_info": {
   "codemirror_mode": {
    "name": "ipython",
    "version": 3
   },
   "file_extension": ".py",
   "mimetype": "text/x-python",
   "name": "python",
   "nbconvert_exporter": "python",
   "pygments_lexer": "ipython3",
   "version": "3.8.3"
  }
 },
 "nbformat": 4,
 "nbformat_minor": 4
}
